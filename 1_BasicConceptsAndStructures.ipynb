{
 "cells": [
  {
   "cell_type": "code",
   "execution_count": 1,
   "metadata": {},
   "outputs": [],
   "source": [
    "import torch"
   ]
  },
  {
   "cell_type": "code",
   "execution_count": 2,
   "metadata": {},
   "outputs": [
    {
     "data": {
      "text/plain": [
       "tensor([[[ 0.4114,  0.3985, -0.1746,  0.2048,  0.7100],\n",
       "         [ 1.5471,  0.5832,  0.9525,  1.0934,  0.1239],\n",
       "         [ 0.7198,  0.3847, -1.7822, -0.5244, -0.8916],\n",
       "         [-0.4233, -0.4973, -1.1038,  0.2229,  0.8947]],\n",
       "\n",
       "        [[-0.0557,  0.4274,  0.4708, -0.3246,  1.4481],\n",
       "         [-0.5769,  0.6451, -0.1725, -0.6387, -0.7197],\n",
       "         [ 0.3338, -0.7413,  1.0715, -0.9079,  0.8289],\n",
       "         [ 0.8650,  2.7678, -0.8161, -0.6561, -0.6240]],\n",
       "\n",
       "        [[ 1.1296,  0.7324, -0.8062, -1.7330, -0.5315],\n",
       "         [ 1.0568, -2.0515,  1.0531, -0.9212,  0.1874],\n",
       "         [-1.5953,  0.6100,  0.2121, -0.8581,  1.8864],\n",
       "         [ 0.6385,  1.1398, -1.0809,  0.9911, -1.1394]]])"
      ]
     },
     "execution_count": 2,
     "metadata": {},
     "output_type": "execute_result"
    }
   ],
   "source": [
    "# Создайте случайный FloatTensor размера 3x4x5\n",
    "a_tensor = torch.randn(3, 4, 5)\n",
    "a_tensor"
   ]
  },
  {
   "cell_type": "code",
   "execution_count": 3,
   "metadata": {},
   "outputs": [
    {
     "data": {
      "text/plain": [
       "torch.Size([3, 4, 5])"
      ]
     },
     "execution_count": 3,
     "metadata": {},
     "output_type": "execute_result"
    }
   ],
   "source": [
    "# Выведите его форму (shape)\n",
    "a_tensor.shape"
   ]
  },
  {
   "cell_type": "code",
   "execution_count": 6,
   "metadata": {},
   "outputs": [
    {
     "name": "stdout",
     "output_type": "stream",
     "text": [
      "tensor([[ 0.4114,  0.3985, -0.1746,  0.2048,  0.7100,  1.5471,  0.5832,  0.9525,\n",
      "          1.0934,  0.1239],\n",
      "        [ 0.7198,  0.3847, -1.7822, -0.5244, -0.8916, -0.4233, -0.4973, -1.1038,\n",
      "          0.2229,  0.8947],\n",
      "        [-0.0557,  0.4274,  0.4708, -0.3246,  1.4481, -0.5769,  0.6451, -0.1725,\n",
      "         -0.6387, -0.7197],\n",
      "        [ 0.3338, -0.7413,  1.0715, -0.9079,  0.8289,  0.8650,  2.7678, -0.8161,\n",
      "         -0.6561, -0.6240],\n",
      "        [ 1.1296,  0.7324, -0.8062, -1.7330, -0.5315,  1.0568, -2.0515,  1.0531,\n",
      "         -0.9212,  0.1874],\n",
      "        [-1.5953,  0.6100,  0.2121, -0.8581,  1.8864,  0.6385,  1.1398, -1.0809,\n",
      "          0.9911, -1.1394]])\n",
      "torch.Size([6, 10])\n"
     ]
    }
   ],
   "source": [
    "# Приведите его к форме 6 X 10\n",
    "a_tensor = a_tensor.reshape((6,10))\n",
    "print(a_tensor)\n",
    "print(a_tensor.shape)"
   ]
  },
  {
   "cell_type": "code",
   "execution_count": 10,
   "metadata": {},
   "outputs": [
    {
     "data": {
      "text/plain": [
       "tensor([[ 0.4114,  1.5939, -0.3491,  0.4097,  0.7100,  1.5471,  2.3328,  1.9051,\n",
       "          2.1868,  0.1239],\n",
       "        [ 0.7198,  1.5386, -3.5644, -1.0488, -0.8916, -0.4233, -1.9893, -2.2076,\n",
       "          0.4459,  0.8947],\n",
       "        [-0.0557,  1.7098,  0.9417, -0.6492,  1.4481, -0.5769,  2.5804, -0.3451,\n",
       "         -1.2773, -0.7197],\n",
       "        [ 0.3338, -2.9653,  2.1429, -1.8158,  0.8289,  0.8650, 11.0713, -1.6322,\n",
       "         -1.3122, -0.6240],\n",
       "        [ 1.1296,  2.9296, -1.6123, -3.4660, -0.5315,  1.0568, -8.2060,  2.1062,\n",
       "         -1.8424,  0.1874],\n",
       "        [-1.5953,  2.4401,  0.4243, -1.7163,  1.8864,  0.6385,  4.5591, -2.1619,\n",
       "          1.9821, -1.1394]])"
      ]
     },
     "execution_count": 10,
     "metadata": {},
     "output_type": "execute_result"
    }
   ],
   "source": [
    "# Умножьте его на вектор [1, 4, 2, 2, 1] поэлементно\n",
    "b_vector = torch.tensor([1, 4, 2, 2, 1, 1, 4, 2, 2, 1])\n",
    "res = a_tensor.multiply(b_vector)\n",
    "res"
   ]
  },
  {
   "cell_type": "code",
   "execution_count": 19,
   "metadata": {},
   "outputs": [
    {
     "name": "stdout",
     "output_type": "stream",
     "text": [
      "tensor([[ 19.7661,  -5.4848,   4.7229,  15.6165, -13.6016,  15.4194],\n",
      "        [ -5.4848,  27.4948,  -6.7166, -30.7252,  25.7498,  -3.4904],\n",
      "        [  4.7229,  -6.7166,  15.5912,  30.0659, -15.3844,  18.9360],\n",
      "        [ 15.6165, -30.7252,  30.0659, 145.5779, -96.9865,  50.4867],\n",
      "        [-13.6016,  25.7498, -15.3844, -96.9865, 101.0752, -35.5471],\n",
      "        [ 15.4194,  -3.4904,  18.9360,  50.4867, -35.5471,  46.2766]])\n",
      "torch.Size([6, 6])\n"
     ]
    }
   ],
   "source": [
    "# Умножьте тензор матрично на себя, чтобы результат был размерности 6x6\n",
    "matrix_result = res.matmul(res.t())\n",
    "\n",
    "print(matrix_result)\n",
    "print(matrix_result.shape)"
   ]
  },
  {
   "cell_type": "code",
   "execution_count": 20,
   "metadata": {},
   "outputs": [
    {
     "name": "stdout",
     "output_type": "stream",
     "text": [
      "d(y)/d(x) = 3.0\n",
      "d(y)/d(z) = 1.0\n",
      "d(y)/d(t) = -75.0\n"
     ]
    }
   ],
   "source": [
    "# Посчитайте производную функции y = x**3 + z - 75t в точке (1, 0.5, 2)\n",
    "x = torch.tensor([1.], requires_grad=True)\n",
    "z = torch.tensor([0.5], requires_grad=True)\n",
    "t = torch.tensor([2.], requires_grad=True)\n",
    "\n",
    "y = x ** 3 + z - 75 * t\n",
    "y.backward()\n",
    "\n",
    "print('d(y)/d(x) =', x.grad.item())\n",
    "print('d(y)/d(z) =', z.grad.item())\n",
    "print('d(y)/d(t) =', t.grad.item())"
   ]
  },
  {
   "cell_type": "code",
   "execution_count": 21,
   "metadata": {},
   "outputs": [
    {
     "name": "stdout",
     "output_type": "stream",
     "text": [
      "tensor([[1., 0., 0., 0., 0., 0.],\n",
      "        [0., 1., 0., 0., 0., 0.],\n",
      "        [0., 0., 1., 0., 0., 0.],\n",
      "        [0., 0., 0., 1., 0., 0.],\n",
      "        [0., 0., 0., 0., 1., 0.]])\n"
     ]
    }
   ],
   "source": [
    "# Создайте единичный тензор размера 5x6\n",
    "tensor = torch.eye(5, 6)\n",
    "print(tensor)"
   ]
  },
  {
   "cell_type": "code",
   "execution_count": 22,
   "metadata": {},
   "outputs": [
    {
     "name": "stdout",
     "output_type": "stream",
     "text": [
      "[[1. 0. 0. 0. 0. 0.]\n",
      " [0. 1. 0. 0. 0. 0.]\n",
      " [0. 0. 1. 0. 0. 0.]\n",
      " [0. 0. 0. 1. 0. 0.]\n",
      " [0. 0. 0. 0. 1. 0.]]\n"
     ]
    }
   ],
   "source": [
    "# Переведите его в формат numpy\n",
    "numpy_array = tensor.numpy()\n",
    "print(numpy_array)"
   ]
  },
  {
   "cell_type": "code",
   "execution_count": 43,
   "metadata": {},
   "outputs": [
    {
     "name": "stdout",
     "output_type": "stream",
     "text": [
      "Iteration 1, x = 1.28, y = 5.16\n",
      "Iteration 2, x = 1.20, y = 4.59\n",
      "Iteration 3, x = 1.14, y = 4.33\n",
      "Iteration 4, x = 1.10, y = 4.20\n",
      "Iteration 5, x = 1.07, y = 4.12\n",
      "Iteration 6, x = 1.05, y = 4.07\n",
      "Iteration 7, x = 1.03, y = 4.04\n",
      "Iteration 8, x = 1.02, y = 4.02\n",
      "Iteration 9, x = 1.00, y = 4.00\n",
      "Iteration 10, x = 0.99, y = 3.99\n",
      "Iteration 11, x = 0.98, y = 3.99\n",
      "Iteration 12, x = 0.98, y = 3.98\n",
      "Iteration 13, x = 0.97, y = 3.98\n",
      "Iteration 14, x = 0.96, y = 3.97\n",
      "Iteration 15, x = 0.96, y = 3.97\n",
      "Iteration 16, x = 0.96, y = 3.97\n",
      "Iteration 17, x = 0.95, y = 3.97\n",
      "Iteration 18, x = 0.95, y = 3.97\n",
      "Iteration 19, x = 0.95, y = 3.97\n",
      "Iteration 20, x = 0.94, y = 3.97\n"
     ]
    }
   ],
   "source": [
    "# Давайте теперь пооптимизируем: возьмите функцию y = x**w1 - 2 * x**2 + 5\n",
    "# Посчитайте \n",
    "from torch.autograd import Variable\n",
    "\n",
    "# Задаем параметры функции\n",
    "w1 = 5\n",
    "x = Variable(torch.Tensor([2]), requires_grad=True)\n",
    "\n",
    "# Определяем функцию и градиент\n",
    "def function(x, w1):\n",
    "    return x**w1 - 2 * x**2 + 5\n",
    "\n",
    "def gradient(x):\n",
    "    return torch.autograd.grad(function(x, w1), x)[0]\n",
    "\n",
    "# Задаем параметры оптимизации\n",
    "learning_rate = 0.01\n",
    "num_iterations = 20\n",
    "\n",
    "# Применяем градиентный спуск\n",
    "for i in range(num_iterations):\n",
    "    x_grad = gradient(x)\n",
    "    x.data -= learning_rate * x_grad\n",
    "    print(\"Iteration {}, x = {:.2f}, y = {:.2f}\".format(i+1, x.data[0], function(x.data[0], w1)))\n"
   ]
  }
 ],
 "metadata": {
  "kernelspec": {
   "display_name": "Python 3",
   "language": "python",
   "name": "python3"
  },
  "language_info": {
   "codemirror_mode": {
    "name": "ipython",
    "version": 3
   },
   "file_extension": ".py",
   "mimetype": "text/x-python",
   "name": "python",
   "nbconvert_exporter": "python",
   "pygments_lexer": "ipython3",
   "version": "3.10.9"
  }
 },
 "nbformat": 4,
 "nbformat_minor": 2
}
